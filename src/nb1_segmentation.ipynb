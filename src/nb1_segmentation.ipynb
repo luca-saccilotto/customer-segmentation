{
 "cells": [
  {
   "cell_type": "markdown",
   "metadata": {},
   "source": [
    "## **Libraries**"
   ]
  },
  {
   "cell_type": "code",
   "execution_count": null,
   "metadata": {},
   "outputs": [],
   "source": [
    "# Import libraries\n",
    "import matplotlib.pyplot as plt\n",
    "import numpy as np\n",
    "import os\n",
    "import pandas as pd\n",
    "import pickle\n",
    "import seaborn as sns\n",
    "sns.set()\n",
    "\n",
    "from scipy.cluster.hierarchy import dendrogram, linkage # For hierarchical clustering\n",
    "from sklearn.cluster import KMeans                      # For K-means clustering\n",
    "from sklearn.decomposition import PCA                   # For principal component analysis\n",
    "from sklearn.preprocessing import StandardScaler        # For standardizing features"
   ]
  },
  {
   "cell_type": "markdown",
   "metadata": {},
   "source": [
    "## **Data**"
   ]
  },
  {
   "cell_type": "code",
   "execution_count": null,
   "metadata": {},
   "outputs": [],
   "source": [
    "# Load raw data\n",
    "df_segmentation = pd.read_csv(os.path.join(\"..\", \"data\", \"customer_data.csv\"), index_col = 0)"
   ]
  },
  {
   "cell_type": "markdown",
   "metadata": {},
   "source": [
    "## **Exploration**"
   ]
  },
  {
   "cell_type": "code",
   "execution_count": null,
   "metadata": {},
   "outputs": [],
   "source": [
    "# Check the first rows\n",
    "df_segmentation.head()"
   ]
  },
  {
   "cell_type": "code",
   "execution_count": null,
   "metadata": {},
   "outputs": [],
   "source": [
    "# Descriptive statistics\n",
    "df_segmentation.describe()"
   ]
  },
  {
   "cell_type": "code",
   "execution_count": null,
   "metadata": {},
   "outputs": [],
   "source": [
    "# Plot correlation coefficient for all the features in our data\n",
    "sns.heatmap(df_segmentation.corr(),\n",
    "               annot = True, \n",
    "               cmap = \"RdBu\",\n",
    "               vmin = -1, \n",
    "               vmax = 1)\n",
    "plt.xticks(rotation = 90, fontsize = 12)\n",
    "plt.yticks(rotation = 0, fontsize = 12)\n",
    "plt.show()"
   ]
  },
  {
   "cell_type": "code",
   "execution_count": null,
   "metadata": {},
   "outputs": [],
   "source": [
    "# Plot income against age \n",
    "plt.figure(figsize = (9, 6))\n",
    "sns.set_style(\"white\")\n",
    "plt.scatter(df_segmentation.iloc[:, 2], df_segmentation.iloc[:, 4])\n",
    "plt.xlabel(\"Age\", fontsize = 12)\n",
    "plt.ylabel(\"Income\", fontsize = 12)"
   ]
  },
  {
   "cell_type": "markdown",
   "metadata": {},
   "source": [
    "## **Standardization**"
   ]
  },
  {
   "cell_type": "code",
   "execution_count": null,
   "metadata": {},
   "outputs": [],
   "source": [
    "# Standardize data so that all features have equal weight\n",
    "scaler = StandardScaler()\n",
    "df_segm_std = scaler.fit_transform(df_segmentation)"
   ]
  },
  {
   "cell_type": "markdown",
   "metadata": {},
   "source": [
    "## **HCA**"
   ]
  },
  {
   "cell_type": "code",
   "execution_count": null,
   "metadata": {},
   "outputs": [],
   "source": [
    "# Perform hierarchical clustering \n",
    "hca = linkage(df_segm_std, method = \"ward\")"
   ]
  },
  {
   "cell_type": "code",
   "execution_count": null,
   "metadata": {},
   "outputs": [],
   "source": [
    "# Plot result matrix\n",
    "plt.figure(figsize = (9, 6))\n",
    "sns.set_style(\"white\")\n",
    "plt.xlabel(\"Observations\", fontsize = 12)\n",
    "plt.ylabel(\"Distance\", fontsize = 12)\n",
    "dendrogram(hca,\n",
    "           truncate_mode = \"level\", # Truncate the dendrogram for better readability\n",
    "           p = 5,                   # Shows only the last p merged clusters\n",
    "           show_leaf_counts = False,\n",
    "           no_labels = True,        # Omit showing the labels for each point\n",
    "           leaf_font_size = 12)\n",
    "plt.show()"
   ]
  },
  {
   "cell_type": "markdown",
   "metadata": {},
   "source": [
    "## **K-Means**"
   ]
  },
  {
   "cell_type": "code",
   "execution_count": null,
   "metadata": {},
   "outputs": [],
   "source": [
    "# Perform K-means clustering\n",
    "wcss = []                               # Within Cluster Sum of Squares (WCSS)\n",
    "for i in range(1, 11):                  # The algoritm considers 1 to 10 clusters\n",
    "    kmeans = KMeans(n_clusters = i,\n",
    "                    init = \"k-means++\", # Run the algortihm at many different starting points\n",
    "                    random_state = 42)  # Set a random state for reproducibility\n",
    "    kmeans.fit(df_segm_std)\n",
    "    wcss.append(kmeans.inertia_)"
   ]
  },
  {
   "cell_type": "code",
   "execution_count": null,
   "metadata": {},
   "outputs": [],
   "source": [
    "# Plot the WCSS for the different number of clusters\n",
    "plt.figure(figsize = (9, 6))\n",
    "sns.set_style(\"white\")\n",
    "plt.plot(range(1, 11), wcss, marker = \"o\", linestyle = \"--\")\n",
    "plt.xlabel(\"Number of Clusters\", fontsize = 12)\n",
    "plt.ylabel(\"WCSS\", fontsize = 12)\n",
    "plt.show()"
   ]
  },
  {
   "cell_type": "code",
   "execution_count": null,
   "metadata": {},
   "outputs": [],
   "source": [
    "# Perform K-means with a fixed number of clusters\n",
    "kmeans = KMeans(n_clusters = 4, init = \"k-means++\", random_state = 42)\n",
    "kmeans.fit(df_segm_std)"
   ]
  },
  {
   "cell_type": "markdown",
   "metadata": {},
   "source": [
    "### **Results**"
   ]
  },
  {
   "cell_type": "code",
   "execution_count": null,
   "metadata": {},
   "outputs": [],
   "source": [
    "# Create a new data frame with the original features\n",
    "df_kmeans = df_segmentation.copy()\n",
    "\n",
    "# Add a new column with the assigned clusters for each point\n",
    "df_kmeans[\"Segment K-Means\"] = kmeans.labels_"
   ]
  },
  {
   "cell_type": "code",
   "execution_count": null,
   "metadata": {},
   "outputs": [],
   "source": [
    "# Calculate mean values for the clusters\n",
    "df_analysis = df_kmeans.groupby([\"Segment K-Means\"]).mean()\n",
    "df_analysis"
   ]
  },
  {
   "cell_type": "code",
   "execution_count": null,
   "metadata": {},
   "outputs": [],
   "source": [
    "# Compute the size and proportions of the four clusters\n",
    "df_analysis[\"N Obs\"] = df_kmeans[[\"Segment K-Means\", \"Sex\"]].groupby([\"Segment K-Means\"]).count()\n",
    "df_analysis[\"Prop Obs\"] = df_analysis[\"N Obs\"] / df_analysis[\"N Obs\"].sum()\n",
    "df_analysis"
   ]
  },
  {
   "cell_type": "code",
   "execution_count": null,
   "metadata": {},
   "outputs": [],
   "source": [
    "# Label the four clusters\n",
    "df_analysis.rename({0:\"well-off\",\n",
    "                    1:\"fewer-opportunities\",\n",
    "                    2:\"standard\",\n",
    "                    3:\"career-focused\"})"
   ]
  },
  {
   "cell_type": "code",
   "execution_count": null,
   "metadata": {},
   "outputs": [],
   "source": [
    "# Add the segment labels to the table\n",
    "df_kmeans[\"Labels\"] = df_kmeans[\"Segment K-Means\"].map({0:\"well-off\",\n",
    "                                                        1:\"fewer-opportunities\",\n",
    "                                                        2:\"standard\",\n",
    "                                                        3:\"career-focused\"})"
   ]
  },
  {
   "cell_type": "code",
   "execution_count": null,
   "metadata": {},
   "outputs": [],
   "source": [
    "# Plot the results from the algorithm with different color for each cluster\n",
    "x_axis = df_kmeans[\"Age\"]\n",
    "y_axis = df_kmeans[\"Income\"]\n",
    "plt.figure(figsize = (9, 6))\n",
    "sns.set_style(\"white\")\n",
    "sns.scatterplot(x_axis, y_axis, hue=df_kmeans[\"Labels\"], palette=[\"g\", \"r\", \"c\", \"m\"])\n",
    "legend = plt.legend(title=\"Labels\", loc=\"upper left\", bbox_to_anchor=(1, 1), fontsize = 12)\n",
    "plt.xlabel(\"Age\", fontsize = 12)\n",
    "plt.ylabel(\"Income\", fontsize = 12)\n",
    "plt.show()"
   ]
  },
  {
   "cell_type": "markdown",
   "metadata": {},
   "source": [
    "## **PCA**"
   ]
  },
  {
   "cell_type": "code",
   "execution_count": null,
   "metadata": {},
   "outputs": [],
   "source": [
    "# Employ PCA to find a subset of components that explain the variance in the data\n",
    "pca = PCA()\n",
    "pca.fit(df_segm_std)"
   ]
  },
  {
   "cell_type": "code",
   "execution_count": null,
   "metadata": {},
   "outputs": [],
   "source": [
    "# Plot the cumulative variance explained by total number of components\n",
    "plt.figure(figsize = (9, 6))\n",
    "sns.set_style(\"white\")\n",
    "plt.plot(range(1, 8), pca.explained_variance_ratio_.cumsum(), marker = \"o\", linestyle = \"--\")\n",
    "plt.xlabel(\"Number of Components\", fontsize = 12)\n",
    "plt.ylabel(\"Cumulative Explained Variance\", fontsize = 12)"
   ]
  },
  {
   "cell_type": "code",
   "execution_count": null,
   "metadata": {},
   "outputs": [],
   "source": [
    "# Fit the model in our data with the selected number of components\n",
    "pca = PCA(n_components = 3)\n",
    "pca.fit(df_segm_std)"
   ]
  },
  {
   "cell_type": "markdown",
   "metadata": {},
   "source": [
    "### **Results**"
   ]
  },
  {
   "cell_type": "code",
   "execution_count": null,
   "metadata": {},
   "outputs": [],
   "source": [
    "# Show the loadings that are the coefficients applied to the variables to determine the principal components\n",
    "df_pca = pd.DataFrame(data = pca.components_,\n",
    "                      columns = df_segmentation.columns.values,\n",
    "                      index = [\"Component 1\", \"Component 2\", \"Component 3\"])\n",
    "df_pca"
   ]
  },
  {
   "cell_type": "code",
   "execution_count": null,
   "metadata": {},
   "outputs": [],
   "source": [
    "# Plot principal components against original features\n",
    "heatmap = sns.heatmap(df_pca,\n",
    "                      vmin = -1,\n",
    "                      vmax = 1,\n",
    "                      cmap = \"RdBu\",\n",
    "                      annot = True)\n",
    "cbar = heatmap.collections[0].colorbar\n",
    "cbar.ax.tick_params(labelsize = 12)\n",
    "plt.xticks(fontsize = 12)\n",
    "plt.yticks([0, 1, 2],\n",
    "           [\"Component 1\", \"Component 2\", \"Component 3\"],\n",
    "           rotation = 0,\n",
    "           fontsize = 12)\n",
    "plt.show()"
   ]
  },
  {
   "cell_type": "code",
   "execution_count": null,
   "metadata": {},
   "outputs": [],
   "source": [
    "# Store principal components scores\n",
    "scores_pca = pca.transform(df_segm_std)\n",
    "scores_pca"
   ]
  },
  {
   "cell_type": "markdown",
   "metadata": {},
   "source": [
    "## **K-Means (PCA)**"
   ]
  },
  {
   "cell_type": "code",
   "execution_count": null,
   "metadata": {},
   "outputs": [],
   "source": [
    "# Perform K-means clustering using the principal components scores\n",
    "wcss = []\n",
    "for i in range(1, 11):                      # The algoritm considers 1 to 10 clusters\n",
    "    kmeans_pca = KMeans(n_clusters = i,\n",
    "                        init = \"k-means++\", # Run the algortihm at many different starting points\n",
    "                        random_state = 42)  # Set a random state for reproducibility\n",
    "    kmeans_pca.fit(scores_pca)\n",
    "    wcss.append(kmeans_pca.inertia_)"
   ]
  },
  {
   "cell_type": "code",
   "execution_count": null,
   "metadata": {},
   "outputs": [],
   "source": [
    "# Plot the WCSS for the K-means PCA model\n",
    "plt.figure(figsize = (9, 6))\n",
    "plt.plot(range(1, 11), wcss, marker = \"o\", linestyle = \"--\")\n",
    "plt.xlabel(\"Number of Clusters\", fontsize = 12)\n",
    "plt.ylabel(\"WCSS\", fontsize = 12)\n",
    "plt.show()"
   ]
  },
  {
   "cell_type": "code",
   "execution_count": null,
   "metadata": {},
   "outputs": [],
   "source": [
    "# Perform K-means with the chosen number of clusters\n",
    "kmeans_pca = KMeans(n_clusters = 4, init = \"k-means++\", random_state = 42)\n",
    "kmeans_pca.fit(scores_pca)"
   ]
  },
  {
   "cell_type": "markdown",
   "metadata": {},
   "source": [
    "### **Results**"
   ]
  },
  {
   "cell_type": "code",
   "execution_count": null,
   "metadata": {},
   "outputs": [],
   "source": [
    "# Create a new data frame with the original features and add the PCA scores and assigned clusters\n",
    "df_pca_kmeans = pd.concat([df_segmentation.reset_index(drop = True), pd.DataFrame(scores_pca)], axis = 1)\n",
    "df_pca_kmeans.columns.values[-3: ] = [\"Component 1\", \"Component 2\", \"Component 3\"]"
   ]
  },
  {
   "cell_type": "code",
   "execution_count": null,
   "metadata": {},
   "outputs": [],
   "source": [
    "# Add a column that contains the PCA K-means clustering labels\n",
    "df_pca_kmeans[\"Segment K-Means PCA\"] = kmeans_pca.labels_\n",
    "df_pca_kmeans.head()"
   ]
  },
  {
   "cell_type": "code",
   "execution_count": null,
   "metadata": {},
   "outputs": [],
   "source": [
    "# Calculate the means of all the features by segments\n",
    "df_pca_freq = df_pca_kmeans.groupby([\"Segment K-Means PCA\"]).mean()\n",
    "df_pca_freq"
   ]
  },
  {
   "cell_type": "code",
   "execution_count": null,
   "metadata": {},
   "outputs": [],
   "source": [
    "# Calculate the size of each cluster and its proportion to the entire data set\n",
    "df_pca_freq[\"N Obs\"] = df_pca_kmeans[[\"Segment K-Means PCA\", \"Sex\"]].groupby([\"Segment K-Means PCA\"]).count()\n",
    "df_pca_freq[\"Prop Obs\"] = df_pca_freq[\"N Obs\"] / df_pca_freq[\"N Obs\"].sum()\n",
    "df_pca_freq = df_pca_freq.rename({0:\"standard\", 1:\"career-focused\", 2:\"fewer-opportunities\", 3:\"well-off\"})\n",
    "df_pca_freq"
   ]
  },
  {
   "cell_type": "code",
   "execution_count": null,
   "metadata": {},
   "outputs": [],
   "source": [
    "# Add a column that contains labels for each segment\n",
    "df_pca_kmeans[\"Legend\"] = df_pca_kmeans[\"Segment K-Means PCA\"].map({0:\"standard\",\n",
    "                                                                    1:\"career-focused\",\n",
    "                                                                    2:\"fewer-opportunities\",\n",
    "                                                                    3:\"well-off\"})\n",
    "df_pca_kmeans"
   ]
  },
  {
   "cell_type": "code",
   "execution_count": null,
   "metadata": {},
   "outputs": [],
   "source": [
    "# Plot clusters by first and second components\n",
    "x_axis = df_pca_kmeans[\"Component 2\"]\n",
    "y_axis = df_pca_kmeans[\"Component 1\"]\n",
    "plt.figure(figsize = (9, 6))\n",
    "sns.scatterplot(x_axis, y_axis, hue = df_pca_kmeans[\"Legend\"], palette = [\"g\", \"r\", \"c\", \"m\"])\n",
    "plt.legend(title = \"Labels\", loc = \"upper left\", bbox_to_anchor = (1, 1), fontsize = 12)\n",
    "plt.xlabel(\"Component 2\", fontsize = 12)\n",
    "plt.ylabel(\"Component 1\", fontsize = 12)\n",
    "plt.show()"
   ]
  },
  {
   "cell_type": "code",
   "execution_count": null,
   "metadata": {},
   "outputs": [],
   "source": [
    "# Plot clusters by first and third components\n",
    "x_axis = df_pca_kmeans[\"Component 3\"]\n",
    "y_axis = df_pca_kmeans[\"Component 1\"]\n",
    "plt.figure(figsize = (9, 6))\n",
    "sns.scatterplot(x_axis, y_axis, hue = df_pca_kmeans[\"Legend\"], palette = [\"g\", \"r\", \"c\", \"m\"])\n",
    "plt.legend(title = \"Labels\", loc = \"upper left\", bbox_to_anchor = (1, 1), fontsize = 12)\n",
    "plt.xlabel(\"Component 3\", fontsize = 12)\n",
    "plt.ylabel(\"Component 1\", fontsize = 12)\n",
    "plt.show()"
   ]
  },
  {
   "cell_type": "code",
   "execution_count": null,
   "metadata": {},
   "outputs": [],
   "source": [
    "# Plot clusters by third and second components\n",
    "x_axis = df_pca_kmeans[\"Component 3\"]\n",
    "y_axis = df_pca_kmeans[\"Component 2\"]\n",
    "plt.figure(figsize = (9, 6))\n",
    "sns.scatterplot(x_axis, y_axis, hue = df_pca_kmeans[\"Legend\"], palette = [\"g\", \"r\", \"c\", \"m\"])\n",
    "plt.legend(title = \"Labels\", loc = \"upper left\", bbox_to_anchor = (1, 1), fontsize = 12)\n",
    "plt.xlabel(\"Component 3\", fontsize = 12)\n",
    "plt.ylabel(\"Component 2\", fontsize = 12)\n",
    "plt.show()"
   ]
  },
  {
   "cell_type": "markdown",
   "metadata": {},
   "source": [
    "## **Saving**"
   ]
  },
  {
   "cell_type": "code",
   "execution_count": null,
   "metadata": {},
   "outputs": [],
   "source": [
    "# Save the items needed for analytics and export them as pickle objects\n",
    "pickle.dump(kmeans_pca, open(os.path.join(\"utils\", \"kmeans_pca.pickle\"), \"wb\"))\n",
    "pickle.dump(pca, open(os.path.join(\"utils\", \"pca.pickle\"), \"wb\"))\n",
    "pickle.dump(scaler, open(os.path.join(\"utils\", \"scaler.pickle\"), \"wb\"))"
   ]
  }
 ],
 "metadata": {
  "kernelspec": {
   "display_name": "customer-segmentation",
   "language": "python",
   "name": "python3"
  },
  "language_info": {
   "codemirror_mode": {
    "name": "ipython",
    "version": 3
   },
   "file_extension": ".py",
   "mimetype": "text/x-python",
   "name": "python",
   "nbconvert_exporter": "python",
   "pygments_lexer": "ipython3",
   "version": "3.6.13"
  },
  "orig_nbformat": 4
 },
 "nbformat": 4,
 "nbformat_minor": 2
}
