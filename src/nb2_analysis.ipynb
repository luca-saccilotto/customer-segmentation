{
 "cells": [
  {
   "cell_type": "markdown",
   "metadata": {},
   "source": [
    "## **Libraries**"
   ]
  },
  {
   "cell_type": "code",
   "execution_count": null,
   "metadata": {},
   "outputs": [],
   "source": [
    "# Import libraries\n",
    "import matplotlib.pyplot as plt\n",
    "import numpy as np\n",
    "import os\n",
    "import pandas as pd\n",
    "import pickle\n",
    "import seaborn as sns\n",
    "sns.set()"
   ]
  },
  {
   "cell_type": "markdown",
   "metadata": {},
   "source": [
    "## **Data**"
   ]
  },
  {
   "cell_type": "code",
   "execution_count": null,
   "metadata": {},
   "outputs": [],
   "source": [
    "# Load raw data\n",
    "df_purchase = pd.read_csv(os.path.join(\"..\", \"data\", \"purchase_data.csv\"))"
   ]
  },
  {
   "cell_type": "markdown",
   "metadata": {},
   "source": [
    "## **Exploration**"
   ]
  },
  {
   "cell_type": "code",
   "execution_count": null,
   "metadata": {},
   "outputs": [],
   "source": [
    "# Check the first rows\n",
    "df_purchase.head()"
   ]
  },
  {
   "cell_type": "code",
   "execution_count": null,
   "metadata": {},
   "outputs": [],
   "source": [
    "# Check for missing values\n",
    "df_purchase.isnull().sum()"
   ]
  },
  {
   "cell_type": "markdown",
   "metadata": {},
   "source": [
    "## **Segmentation**"
   ]
  },
  {
   "cell_type": "markdown",
   "metadata": {},
   "source": [
    "### **Model**"
   ]
  },
  {
   "cell_type": "code",
   "execution_count": null,
   "metadata": {},
   "outputs": [],
   "source": [
    "# Load pickled objects in order to segment the purchase data\n",
    "kmeans_pca = pickle.load(open(os.path.join(\"utils\", \"kmeans_pca.pickle\"), \"rb\"))\n",
    "pca = pickle.load(open(os.path.join(\"utils\", \"pca.pickle\"), \"rb\"))\n",
    "scaler = pickle.load(open(os.path.join(\"utils\", \"scaler.pickle\"), \"rb\"))"
   ]
  },
  {
   "cell_type": "markdown",
   "metadata": {},
   "source": [
    "### **Standardization**"
   ]
  },
  {
   "cell_type": "code",
   "execution_count": null,
   "metadata": {},
   "outputs": [],
   "source": [
    "# Standardize the purchase data like for segmentation data\n",
    "features = df_purchase[[\"Sex\", \"Marital status\", \"Age\", \"Education\", \"Income\", \"Occupation\", \"Settlement\"]]\n",
    "df_segm_std = scaler.transform(features)"
   ]
  },
  {
   "cell_type": "markdown",
   "metadata": {},
   "source": [
    "### **PCA**"
   ]
  },
  {
   "cell_type": "code",
   "execution_count": null,
   "metadata": {},
   "outputs": [],
   "source": [
    "# Apply PCA on the purchase data to obtain three principal components for each row in the table\n",
    "df_segm_pca = pca.transform(df_segm_std)"
   ]
  },
  {
   "cell_type": "markdown",
   "metadata": {},
   "source": [
    "### **K-Means (PCA)**"
   ]
  },
  {
   "cell_type": "code",
   "execution_count": null,
   "metadata": {},
   "outputs": [],
   "source": [
    "# Segment the purchase data into the four segments using the principal component analysis\n",
    "pca_segments = kmeans_pca.predict(df_segm_pca)"
   ]
  },
  {
   "cell_type": "code",
   "execution_count": null,
   "metadata": {},
   "outputs": [],
   "source": [
    "# Create a copy to keep original data\n",
    "df_predictors = df_purchase.copy()"
   ]
  },
  {
   "cell_type": "code",
   "execution_count": null,
   "metadata": {},
   "outputs": [],
   "source": [
    "# Add segment information as a new column in our predictors data\n",
    "df_predictors[\"Segment\"] = pca_segments"
   ]
  },
  {
   "cell_type": "markdown",
   "metadata": {},
   "source": [
    "## **Analysis**"
   ]
  },
  {
   "cell_type": "markdown",
   "metadata": {},
   "source": [
    "### **Customers**"
   ]
  },
  {
   "cell_type": "code",
   "execution_count": null,
   "metadata": {},
   "outputs": [],
   "source": [
    "# Explore the first rows\n",
    "df_predictors.head()"
   ]
  },
  {
   "cell_type": "code",
   "execution_count": null,
   "metadata": {},
   "outputs": [],
   "source": [
    "# Compute purchase occasions by customer\n",
    "temp1 = df_predictors[[\"ID\", \"Incidence\"]].groupby([\"ID\"], as_index = False).count()\n",
    "temp1 = temp1.set_index(\"ID\")\n",
    "temp1 = temp1.rename(columns = {\"Incidence\": \"Visits\"})\n",
    "temp1.head()"
   ]
  },
  {
   "cell_type": "code",
   "execution_count": null,
   "metadata": {},
   "outputs": [],
   "source": [
    "# Compute number of purchases per customer\n",
    "temp2 = df_predictors[[\"ID\", \"Incidence\"]].groupby([\"ID\"], as_index = False).sum()\n",
    "temp2 = temp2.set_index(\"ID\")\n",
    "temp2 = temp2.rename(columns = {\"Incidence\": \"Purchases\"})\n",
    "temp3 = temp1.join(temp2)\n",
    "temp3.head()"
   ]
  },
  {
   "cell_type": "code",
   "execution_count": null,
   "metadata": {},
   "outputs": [],
   "source": [
    "# Compute the average number of purchases by customer\n",
    "temp3[\"Average Purchases\"] = temp3[\"Purchases\"] / temp3[\"Visits\"]\n",
    "temp3.head()"
   ]
  },
  {
   "cell_type": "code",
   "execution_count": null,
   "metadata": {},
   "outputs": [],
   "source": [
    "# Obtain the segment for each customer in the data set\n",
    "temp4 = df_predictors[[\"ID\", \"Segment\"]].groupby([\"ID\"], as_index = False).mean()\n",
    "temp4 = temp4.set_index(\"ID\")\n",
    "df_description = temp3.join(temp4)\n",
    "df_description.head()"
   ]
  },
  {
   "cell_type": "markdown",
   "metadata": {},
   "source": [
    "### **Segments**"
   ]
  },
  {
   "cell_type": "code",
   "execution_count": null,
   "metadata": {},
   "outputs": [],
   "source": [
    "# Calculate the proportions of each segment and set the appropriate column name\n",
    "segment_proportion = df_description[[\"Purchases\", \"Segment\"]].groupby([\"Segment\"]).count() / df_description.shape[0]\n",
    "segment_proportion = segment_proportion.rename(columns = {\"Purchases\": \"Proportions\"})\n",
    "segment_proportion.head()"
   ]
  },
  {
   "cell_type": "code",
   "execution_count": null,
   "metadata": {},
   "outputs": [],
   "source": [
    "# Plot the segment proportions as a pie chart\n",
    "plt.figure(figsize = (9, 6))\n",
    "plt.pie(segment_proportion[\"Proportions\"],\n",
    "        labels = [\"Standard\", \"Career-Focused\", \"Fewer-Opportunities\", \"Well-Off\"],\n",
    "        autopct = \"%1.1f%%\",\n",
    "        colors = [\"b\", \"g\", \"r\", \"orange\"],\n",
    "        textprops = {\"fontsize\": 12})\n",
    "plt.show()"
   ]
  },
  {
   "cell_type": "markdown",
   "metadata": {},
   "source": [
    "### **Purchases**"
   ]
  },
  {
   "cell_type": "code",
   "execution_count": null,
   "metadata": {},
   "outputs": [],
   "source": [
    "# Calculate the mean by the four segments to determine the average customer behaviour in each segment\n",
    "segments_mean = df_description.groupby([\"Segment\"]).mean()\n",
    "segments_mean"
   ]
  },
  {
   "cell_type": "code",
   "execution_count": null,
   "metadata": {},
   "outputs": [],
   "source": [
    "# Calculate the standard deviation by segments to determine how homogoneus each of the segments is\n",
    "segments_std = df_description.groupby([\"Segment\"]).std()"
   ]
  },
  {
   "cell_type": "code",
   "execution_count": null,
   "metadata": {},
   "outputs": [],
   "source": [
    "# Plot the average number of store visits for each of the four segments using a bar chart\n",
    "plt.figure(figsize = (9, 6))\n",
    "sns.set_style(\"white\")\n",
    "plt.bar(x = (0, 1, 2, 3),\n",
    "        tick_label = (\"Standard\", \"Career-Focused\", \"Fewer-Opportunities\", \"Well-Off\"), \n",
    "        height = segments_mean[\"Visits\"],\n",
    "        yerr = segments_std[\"Visits\"], # Display the standard deviation as a straight line\n",
    "        color = (\"b\", \"g\", \"r\", \"orange\"))\n",
    "plt.xlabel(\"Segment\", fontsize = 12)\n",
    "plt.ylabel(\"Store Visits\", fontsize = 12)"
   ]
  },
  {
   "cell_type": "code",
   "execution_count": null,
   "metadata": {},
   "outputs": [],
   "source": [
    "# Plot the average number of purchases by segments to understand how often each group buys the product\n",
    "plt.figure(figsize = (9, 6))\n",
    "sns.set_style(\"white\")\n",
    "plt.bar(x = (0, 1, 2, 3),\n",
    "        tick_label = (\"Standard\", \"Career-Focused\", \"Fewer-Opportunities\", \"Well-Off\"), \n",
    "        height = segments_mean[\"Purchases\"],\n",
    "        yerr = segments_std[\"Purchases\"], # Display the standard deviation as a straight line\n",
    "        color = (\"b\", \"g\", \"r\", \"orange\"))\n",
    "plt.xlabel(\"Segment\", fontsize = 12)\n",
    "plt.ylabel(\"Purchase Incidences\", fontsize = 12)"
   ]
  },
  {
   "cell_type": "markdown",
   "metadata": {},
   "source": [
    "### **Brand**"
   ]
  },
  {
   "cell_type": "code",
   "execution_count": null,
   "metadata": {},
   "outputs": [],
   "source": [
    "# Select rows where the incidence column equals 1 that indicates times when a purchase was made\n",
    "df_incidence = df_predictors[df_predictors[\"Incidence\"] == 1]"
   ]
  },
  {
   "cell_type": "code",
   "execution_count": null,
   "metadata": {},
   "outputs": [],
   "source": [
    "# Create dummies for each of the five brands\n",
    "brand_dummies = pd.get_dummies(df_incidence[\"Brand\"], prefix = \"Brand\", prefix_sep = \"_\")\n",
    "brand_dummies[\"Segment\"], brand_dummies[\"ID\"] = df_incidence[\"Segment\"], df_incidence[\"ID\"]\n",
    "brand_dummies"
   ]
  },
  {
   "cell_type": "code",
   "execution_count": null,
   "metadata": {},
   "outputs": [],
   "source": [
    "# Group the dummies by the customer column and calculate the mean for each group\n",
    "temp = brand_dummies.groupby([\"ID\"], as_index = True).mean()\n",
    "\n",
    "# Group the dummies by segment and calculate the mean brand choice for each of them\n",
    "mean_choice = temp.groupby([\"Segment\"], as_index = True).mean()"
   ]
  },
  {
   "cell_type": "code",
   "execution_count": null,
   "metadata": {},
   "outputs": [],
   "source": [
    "# Plot the mean brand choice by segment\n",
    "sns.heatmap(mean_choice,\n",
    "            vmin = 0,\n",
    "            vmax = 1,\n",
    "            cmap = \"PuBu\",\n",
    "            annot = True)\n",
    "plt.xticks(rotation = 90, fontsize = 12)\n",
    "plt.yticks([0, 1, 2, 3],\n",
    "           [\"Standard\", \"Career-Focused\", \"Fewer-Opportunities\", \"Well-Off\"],\n",
    "           rotation = 0,\n",
    "           fontsize = 12)\n",
    "plt.show()"
   ]
  },
  {
   "cell_type": "markdown",
   "metadata": {},
   "source": [
    "### **Revenue**"
   ]
  },
  {
   "cell_type": "code",
   "execution_count": null,
   "metadata": {},
   "outputs": [],
   "source": [
    "# Compute the revenue for the first brand\n",
    "temp = df_predictors[df_predictors[\"Brand\"] == 1]\n",
    "temp.loc[:, \"Revenue Brand 1\"] = temp[\"Price_1\"] * temp[\"Quantity\"] # Create a new column by multiplying price and quantity for each row\n",
    "segment_revenue = pd.DataFrame()\n",
    "segment_revenue[[\"Segment\", \"Revenue Brand 1\"]] = temp[[\"Segment\", \"Revenue Brand 1\"]].groupby([\"Segment\"], as_index=False).sum()"
   ]
  },
  {
   "cell_type": "code",
   "execution_count": null,
   "metadata": {},
   "outputs": [],
   "source": [
    "# Compute the revenue for the second brand by using the same formula\n",
    "temp = df_predictors[df_predictors[\"Brand\"] == 2]\n",
    "temp.loc[:, \"Revenue Brand 2\"] = temp[\"Price_2\"] * temp[\"Quantity\"]\n",
    "segment_revenue[[\"Segment\", \"Revenue Brand 2\"]] = temp[[\"Segment\", \"Revenue Brand 2\"]].groupby([\"Segment\"], as_index = False).sum()"
   ]
  },
  {
   "cell_type": "code",
   "execution_count": null,
   "metadata": {},
   "outputs": [],
   "source": [
    "# Compute the revenue for the third brand by using the same formula\n",
    "temp = df_predictors[df_predictors[\"Brand\"] == 3]\n",
    "temp.loc[:, \"Revenue Brand 3\"] = temp[\"Price_3\"] * temp[\"Quantity\"]\n",
    "segment_revenue[[\"Segment\", \"Revenue Brand 3\"]] = temp[[\"Segment\", \"Revenue Brand 3\"]].groupby([\"Segment\"], as_index = False).sum()"
   ]
  },
  {
   "cell_type": "code",
   "execution_count": null,
   "metadata": {},
   "outputs": [],
   "source": [
    "# Compute the revenue for the fourth brand by using the same formula\n",
    "temp = df_predictors[df_predictors[\"Brand\"] == 4]\n",
    "temp.loc[:, \"Revenue Brand 4\"] = temp[\"Price_4\"] * temp[\"Quantity\"]\n",
    "segment_revenue[[\"Segment\", \"Revenue Brand 4\"]] = temp[[\"Segment\", \"Revenue Brand 4\"]].groupby([\"Segment\"], as_index = False).sum()"
   ]
  },
  {
   "cell_type": "code",
   "execution_count": null,
   "metadata": {},
   "outputs": [],
   "source": [
    "# Compute the revenue for the fifth brand by using the same formula\n",
    "temp = df_predictors[df_predictors[\"Brand\"] == 5]\n",
    "temp.loc[:, \"Revenue Brand 5\"] = temp[\"Price_5\"] * temp[\"Quantity\"]\n",
    "segment_revenue[[\"Segment\", \"Revenue Brand 5\"]] = temp[[\"Segment\", \"Revenue Brand 5\"]].groupby([\"Segment\"], as_index = False).sum()"
   ]
  },
  {
   "cell_type": "code",
   "execution_count": null,
   "metadata": {},
   "outputs": [],
   "source": [
    "# Compute the total revenue by summing the revenue for each of the five brands\n",
    "segment_revenue[\"Total Revenue\"] = (segment_revenue[\"Revenue Brand 1\"] +\n",
    "                                    segment_revenue[\"Revenue Brand 2\"] +\n",
    "                                    segment_revenue[\"Revenue Brand 3\"] +\n",
    "                                    segment_revenue[\"Revenue Brand 4\"] +\n",
    "                                    segment_revenue[\"Revenue Brand 5\"])\n",
    "segment_revenue"
   ]
  },
  {
   "cell_type": "code",
   "execution_count": null,
   "metadata": {},
   "outputs": [],
   "source": [
    "# Modify the table to see the size of the segment compared to the revenue they bring\n",
    "segment_revenue[\"Proportions\"] = segment_proportion[\"Proportions\"]\n",
    "segment_revenue[\"Segment\"] = segment_revenue[\"Segment\"].map({0:\"Standard\",\n",
    "                                                            1:\"Career-Focused\",\n",
    "                                                            2:\"Fewer-Opportunities\",\n",
    "                                                            3:\"Well-Off\"})\n",
    "segment_revenue = segment_revenue.set_index([\"Segment\"])\n",
    "segment_revenue"
   ]
  }
 ],
 "metadata": {
  "kernelspec": {
   "display_name": "customer-segmentation",
   "language": "python",
   "name": "python3"
  },
  "language_info": {
   "codemirror_mode": {
    "name": "ipython",
    "version": 3
   },
   "file_extension": ".py",
   "mimetype": "text/x-python",
   "name": "python",
   "nbconvert_exporter": "python",
   "pygments_lexer": "ipython3",
   "version": "3.6.13"
  },
  "orig_nbformat": 4
 },
 "nbformat": 4,
 "nbformat_minor": 2
}
