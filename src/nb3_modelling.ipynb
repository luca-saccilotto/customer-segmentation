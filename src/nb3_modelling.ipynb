{
 "cells": [
  {
   "cell_type": "markdown",
   "metadata": {},
   "source": [
    "## **Libraries**"
   ]
  },
  {
   "cell_type": "code",
   "execution_count": null,
   "metadata": {},
   "outputs": [],
   "source": [
    "# Import libraries\n",
    "import matplotlib.pyplot as plt\n",
    "import numpy as np\n",
    "import os\n",
    "import pandas as pd\n",
    "import pickle\n",
    "\n",
    "from sklearn.linear_model import LogisticRegression\n",
    "from sklearn.linear_model import LinearRegression"
   ]
  },
  {
   "cell_type": "markdown",
   "metadata": {},
   "source": [
    "## **Data**"
   ]
  },
  {
   "cell_type": "code",
   "execution_count": null,
   "metadata": {},
   "outputs": [],
   "source": [
    "# Load raw data\n",
    "df_purchase = pd.read_csv(os.path.join(\"..\", \"data\", \"purchase_data.csv\"))"
   ]
  },
  {
   "cell_type": "code",
   "execution_count": null,
   "metadata": {},
   "outputs": [],
   "source": [
    "# Load pickled objects in order to segment the purchase data\n",
    "kmeans_pca = pickle.load(open(os.path.join(\"utils\", \"kmeans_pca.pickle\"), \"rb\"))\n",
    "pca = pickle.load(open(os.path.join(\"utils\", \"pca.pickle\"), \"rb\"))\n",
    "scaler = pickle.load(open(os.path.join(\"utils\", \"scaler.pickle\"), \"rb\"))"
   ]
  },
  {
   "cell_type": "code",
   "execution_count": null,
   "metadata": {},
   "outputs": [],
   "source": [
    "# Standardization\n",
    "features = df_purchase[[\"Sex\", \"Marital status\", \"Age\", \"Education\", \"Income\", \"Occupation\", \"Settlement\"]]\n",
    "df_segm_std = scaler.transform(features)"
   ]
  },
  {
   "cell_type": "code",
   "execution_count": null,
   "metadata": {},
   "outputs": [],
   "source": [
    "# Apply PCA on the purchase data to obtain three principal components for each row in the table\n",
    "df_segm_pca = pca.transform(df_segm_std)"
   ]
  },
  {
   "cell_type": "code",
   "execution_count": null,
   "metadata": {},
   "outputs": [],
   "source": [
    "# Segment the purchase data into the four segments using the principal component analysis\n",
    "pca_segments = kmeans_pca.predict(df_segm_pca)"
   ]
  },
  {
   "cell_type": "code",
   "execution_count": null,
   "metadata": {},
   "outputs": [],
   "source": [
    "# Create a copy to keep original data\n",
    "df_predictors = df_purchase.copy()"
   ]
  },
  {
   "cell_type": "code",
   "execution_count": null,
   "metadata": {},
   "outputs": [],
   "source": [
    "# Add segment labels\n",
    "df_predictors[\"Segment\"] = pca_segments"
   ]
  },
  {
   "cell_type": "code",
   "execution_count": null,
   "metadata": {},
   "outputs": [],
   "source": [
    "# Create segment dummies\n",
    "segment_dummies = pd.get_dummies(pca_segments, prefix = \"Segment\", prefix_sep = \"_\")"
   ]
  },
  {
   "cell_type": "code",
   "execution_count": null,
   "metadata": {},
   "outputs": [],
   "source": [
    "# Concatenate the two data frames\n",
    "df_predictors = pd.concat([df_predictors, segment_dummies], axis = 1)"
   ]
  },
  {
   "cell_type": "code",
   "execution_count": null,
   "metadata": {},
   "outputs": [],
   "source": [
    "# Create a copy to keep original data\n",
    "df_pca = df_predictors"
   ]
  },
  {
   "cell_type": "markdown",
   "metadata": {},
   "source": [
    "## **Purchase Probability**"
   ]
  },
  {
   "cell_type": "markdown",
   "metadata": {},
   "source": [
    "### **Model**"
   ]
  },
  {
   "cell_type": "code",
   "execution_count": null,
   "metadata": {},
   "outputs": [],
   "source": [
    "# Set the dependent variable to predict the purchase probability\n",
    "Y = df_pca[\"Incidence\"]"
   ]
  },
  {
   "cell_type": "code",
   "execution_count": null,
   "metadata": {},
   "outputs": [],
   "source": [
    "# The dependent variable is based on the the mean across the five prices\n",
    "X = pd.DataFrame()\n",
    "X[\"Mean_Price\"] = (df_pca[\"Price_1\"] +\n",
    "                   df_pca[\"Price_2\"] +\n",
    "                   df_pca[\"Price_3\"] +\n",
    "                   df_pca[\"Price_4\"] +\n",
    "                   df_pca[\"Price_5\"]) / 5"
   ]
  },
  {
   "cell_type": "code",
   "execution_count": null,
   "metadata": {},
   "outputs": [],
   "source": [
    "# Fit a logistic regression to estimate the probability of purchase\n",
    "model_purchase = LogisticRegression(solver = \"sag\")\n",
    "model_purchase.fit(X, Y)\n",
    "model_purchase.coef_"
   ]
  },
  {
   "cell_type": "markdown",
   "metadata": {},
   "source": [
    "### **Elasticity**"
   ]
  },
  {
   "cell_type": "code",
   "execution_count": null,
   "metadata": {},
   "outputs": [],
   "source": [
    "# Show the price range for the five different brands\n",
    "df_pca[[\"Price_1\", \"Price_2\", \"Price_3\", \"Price_4\", \"Price_5\"]].describe().round(3)"
   ]
  },
  {
   "cell_type": "code",
   "execution_count": null,
   "metadata": {},
   "outputs": [],
   "source": [
    "# Introduce the price range for examination of purchase probability\n",
    "price_range = np.arange(0.5, 3.5, 0.01)\n",
    "price_range"
   ]
  },
  {
   "cell_type": "code",
   "execution_count": null,
   "metadata": {},
   "outputs": [],
   "source": [
    "# Create a new data frame based on the price range defined above\n",
    "df_price = pd.DataFrame(price_range)\n",
    "df_price.head()"
   ]
  },
  {
   "cell_type": "code",
   "execution_count": null,
   "metadata": {},
   "outputs": [],
   "source": [
    "# Predict and extract the purchase probability for each point in our price range defined in the second column\n",
    "Y_pr = model_purchase.predict_proba(df_price)\n",
    "purchase_probability = Y_pr[:][:, 1]"
   ]
  },
  {
   "cell_type": "code",
   "execution_count": null,
   "metadata": {},
   "outputs": [],
   "source": [
    "# Compute the price elasticity using model coefficients\n",
    "price_elasticity = model_purchase.coef_[:, 0] * price_range * (1 - purchase_probability)"
   ]
  },
  {
   "cell_type": "code",
   "execution_count": null,
   "metadata": {},
   "outputs": [],
   "source": [
    "# Create a data frame that contains all the prices elasticities calculated\n",
    "df_elasticities = pd.DataFrame(price_range)\n",
    "df_elasticities.head()"
   ]
  },
  {
   "cell_type": "code",
   "execution_count": null,
   "metadata": {},
   "outputs": [],
   "source": [
    "# Add the price elasticities calculated before\n",
    "df_elasticities = df_elasticities.rename(columns = {0: \"Price_Point\"})\n",
    "df_elasticities[\"Price_Elasticity\"] = price_elasticity\n",
    "df_elasticities.head()"
   ]
  },
  {
   "cell_type": "code",
   "execution_count": null,
   "metadata": {},
   "outputs": [],
   "source": [
    "# Display the price elasticity of purchase probability of the average customer\n",
    "plt.figure(figsize = (9, 6))\n",
    "plt.plot(price_range, price_elasticity, color = \"grey\")\n",
    "plt.xlabel(\"Price\", fontsize = 12)\n",
    "plt.ylabel(\"Elasticity\", fontsize = 12)"
   ]
  },
  {
   "cell_type": "markdown",
   "metadata": {},
   "source": [
    "### **By Segments**"
   ]
  },
  {
   "cell_type": "code",
   "execution_count": null,
   "metadata": {},
   "outputs": [],
   "source": [
    "# Segment 0 - Standard\n",
    "df_segm_0 = df_pca[df_pca[\"Segment\"] == 0]\n",
    "Y = df_segm_0[\"Incidence\"]\n",
    "\n",
    "X = pd.DataFrame()\n",
    "X[\"Mean_Price\"] = (df_segm_0[\"Price_1\"] + \n",
    "                   df_segm_0[\"Price_2\"] + \n",
    "                   df_segm_0[\"Price_3\"] + \n",
    "                   df_segm_0[\"Price_4\"] + \n",
    "                   df_segm_0[\"Price_5\"]) / 5\n",
    "\n",
    "model_segm_0 = LogisticRegression(solver = \"sag\")\n",
    "model_segm_0.fit(X, Y)\n",
    "\n",
    "Y_segm_0 = model_segm_0.predict_proba(df_price)\n",
    "pp_segm_0 = Y_segm_0[:][:, 1]                                           # Purchase Probability (PP)\n",
    "pe_segm_0 = model_segm_0.coef_[:, 0] * price_range * (1 - pp_segm_0)    # Price Elasticity (PE)\n",
    "\n",
    "df_elasticities[\"PE_Segment_0\"] = pe_segm_0"
   ]
  },
  {
   "cell_type": "code",
   "execution_count": null,
   "metadata": {},
   "outputs": [],
   "source": [
    "# Segment 1 - Career-Focused\n",
    "df_segm_1 = df_pca[df_pca[\"Segment\"] == 1]\n",
    "Y = df_segm_1[\"Incidence\"]\n",
    "\n",
    "X = pd.DataFrame()\n",
    "X[\"Mean_Price\"] = (df_segm_1[\"Price_1\"] + \n",
    "                   df_segm_1[\"Price_2\"] + \n",
    "                   df_segm_1[\"Price_3\"] + \n",
    "                   df_segm_1[\"Price_4\"] + \n",
    "                   df_segm_1[\"Price_5\"]) / 5\n",
    "\n",
    "model_segm_1 = LogisticRegression(solver = \"sag\")\n",
    "model_segm_1.fit(X, Y)\n",
    "\n",
    "Y_segm_1 = model_segm_1.predict_proba(df_price)\n",
    "pp_segm_1 = Y_segm_1[:][:, 1]                                           # Purchase Probability (PP)\n",
    "pe_segm_1 = model_segm_1.coef_[:, 0] * price_range * (1 - pp_segm_1)    # Price Elasticity (PE)\n",
    "\n",
    "df_elasticities[\"PE_Segment_1\"] = pe_segm_1"
   ]
  },
  {
   "cell_type": "code",
   "execution_count": null,
   "metadata": {},
   "outputs": [],
   "source": [
    "# Segment 2 - Fewer-Opportunities\n",
    "df_segm_2 = df_pca[df_pca[\"Segment\"] == 2]\n",
    "Y = df_segm_2[\"Incidence\"]\n",
    "\n",
    "X = pd.DataFrame()\n",
    "X[\"Mean_Price\"] = (df_segm_2[\"Price_1\"] + \n",
    "                   df_segm_2[\"Price_2\"] + \n",
    "                   df_segm_2[\"Price_3\"] + \n",
    "                   df_segm_2[\"Price_4\"] + \n",
    "                   df_segm_2[\"Price_5\"]) / 5\n",
    "\n",
    "model_segm_2 = LogisticRegression(solver = \"sag\")\n",
    "model_segm_2.fit(X, Y)\n",
    "\n",
    "Y_segm_2 = model_segm_2.predict_proba(df_price)\n",
    "pp_segm_2 = Y_segm_2[:][:, 1]                                           # Purchase Probability (PP)\n",
    "pe_segm_2 = model_segm_2.coef_[:, 0] * price_range * (1 - pp_segm_2)    # Price Elasticity (PE)\n",
    "\n",
    "df_elasticities[\"PE_Segment_2\"] = pe_segm_2"
   ]
  },
  {
   "cell_type": "code",
   "execution_count": null,
   "metadata": {},
   "outputs": [],
   "source": [
    "# Segment 3 - Well-Off\n",
    "df_segm_3 = df_pca[df_pca[\"Segment\"] == 3]\n",
    "Y = df_segm_3[\"Incidence\"]\n",
    "\n",
    "X = pd.DataFrame()\n",
    "X[\"Mean_Price\"] = (df_segm_3[\"Price_1\"] + \n",
    "                   df_segm_3[\"Price_2\"] + \n",
    "                   df_segm_3[\"Price_3\"] + \n",
    "                   df_segm_3[\"Price_4\"] + \n",
    "                   df_segm_3[\"Price_5\"]) / 5\n",
    "\n",
    "model_segm_3 = LogisticRegression(solver = \"sag\")\n",
    "model_segm_3.fit(X, Y)\n",
    "\n",
    "Y_segm_3 = model_segm_3.predict_proba(df_price)\n",
    "pp_segm_3 = Y_segm_3[:][:, 1]                                           # Purchase Probability (PP)\n",
    "pe_segm_3 = model_segm_3.coef_[:, 0] * price_range * (1 - pp_segm_3)    # Price Elasticity (PE)\n",
    "\n",
    "df_elasticities[\"PE_Segment_3\"] = pe_segm_3"
   ]
  },
  {
   "cell_type": "markdown",
   "metadata": {},
   "source": [
    "### **Results**"
   ]
  },
  {
   "cell_type": "code",
   "execution_count": null,
   "metadata": {},
   "outputs": [],
   "source": [
    "# Display all elasticities of purchase probability on the same plot\n",
    "plt.figure(figsize = (9, 6))\n",
    "plt.plot(price_range, price_elasticity, color = \"grey\")\n",
    "plt.plot(price_range, pe_segm_0, color = \"b\")\n",
    "plt.plot(price_range, pe_segm_1, color = \"green\")\n",
    "plt.plot(price_range, pe_segm_2, color = \"r\")\n",
    "plt.plot(price_range, pe_segm_3, color = \"orange\")\n",
    "plt.xlabel(\"Price\", fontsize = 12)\n",
    "plt.ylabel(\"Elasticity\", fontsize = 12)\n",
    "plt.legend([\"Average\", \"Segment 0\", \"Segment 1\", \"Segment 2\", \"Segment 3\"],\n",
    "           loc = \"upper left\",\n",
    "           fontsize = 12,\n",
    "           bbox_to_anchor = (1, 1))"
   ]
  },
  {
   "cell_type": "markdown",
   "metadata": {},
   "source": [
    "## **Promotion**"
   ]
  },
  {
   "cell_type": "markdown",
   "metadata": {},
   "source": [
    "### **Data**"
   ]
  },
  {
   "cell_type": "code",
   "execution_count": null,
   "metadata": {},
   "outputs": [],
   "source": [
    "# Set the dependent variable to predict the purchase probability\n",
    "Y = df_pca[\"Incidence\"]"
   ]
  },
  {
   "cell_type": "code",
   "execution_count": null,
   "metadata": {},
   "outputs": [],
   "source": [
    "# The dependent variable is based on the the mean across the five prices\n",
    "X = pd.DataFrame()\n",
    "X[\"Mean_Price\"] = (df_pca[\"Price_1\"] +\n",
    "                   df_pca[\"Price_2\"] +\n",
    "                   df_pca[\"Price_3\"] +\n",
    "                   df_pca[\"Price_4\"] +\n",
    "                   df_pca[\"Price_5\"]) / 5"
   ]
  },
  {
   "cell_type": "code",
   "execution_count": null,
   "metadata": {},
   "outputs": [],
   "source": [
    "# Include and calculate the average promotion rate across the five brands\n",
    "X[\"Mean_Promotion\"] = (df_pca[\"Promotion_1\"] +\n",
    "                       df_pca[\"Promotion_2\"] +\n",
    "                       df_pca[\"Promotion_3\"] +\n",
    "                       df_pca[\"Promotion_4\"] +\n",
    "                       df_pca[\"Promotion_5\"] ) / 5\n",
    "X.head()"
   ]
  },
  {
   "cell_type": "markdown",
   "metadata": {},
   "source": [
    "### **Model**"
   ]
  },
  {
   "cell_type": "code",
   "execution_count": null,
   "metadata": {},
   "outputs": [],
   "source": [
    "# Estimate the relationship between promotion and purchase probability\n",
    "model_promotion = LogisticRegression(solver = \"sag\")\n",
    "model_promotion.fit(X, Y)\n",
    "model_promotion.coef_"
   ]
  },
  {
   "cell_type": "markdown",
   "metadata": {},
   "source": [
    "### **Elasticity**"
   ]
  },
  {
   "cell_type": "code",
   "execution_count": null,
   "metadata": {},
   "outputs": [],
   "source": [
    "# Create a new data frame and include the price range as the price feature\n",
    "df_promotion = pd.DataFrame(price_range)\n",
    "df_promotion = df_promotion.rename(columns = {0: \"Price_Range\"})\n",
    "df_promotion.head()"
   ]
  },
  {
   "cell_type": "code",
   "execution_count": null,
   "metadata": {},
   "outputs": [],
   "source": [
    "# Calculate price elasticities of purchase probability when there is a promotion at each price points\n",
    "df_promotion[\"Promotion\"] = 1\n",
    "Y_promotion = model_promotion.predict_proba(df_promotion)\n",
    "promotion = Y_promotion[:, 1]\n",
    "pe_promo = (model_promotion.coef_[:, 0] * price_range) * (1 - promotion)"
   ]
  },
  {
   "cell_type": "code",
   "execution_count": null,
   "metadata": {},
   "outputs": [],
   "source": [
    "# Update master data to include elasticities of purchase probability with promotion feature\n",
    "df_elasticities[\"PE_Promotion\"] = pe_promo\n",
    "df_elasticities.head()"
   ]
  },
  {
   "cell_type": "markdown",
   "metadata": {},
   "source": [
    "### **Non-Promoted Price**"
   ]
  },
  {
   "cell_type": "code",
   "execution_count": null,
   "metadata": {},
   "outputs": [],
   "source": [
    "# Create a new data frame and include the price range as the price feature\n",
    "df_no_promo = pd.DataFrame(price_range)\n",
    "df_no_promo = df_no_promo.rename(columns = {0: \"Price_Range\"})"
   ]
  },
  {
   "cell_type": "code",
   "execution_count": null,
   "metadata": {},
   "outputs": [],
   "source": [
    "# Examine the price elasticity of purchase probability when there is no promotion\n",
    "df_no_promo[\"Promotion\"] = 0\n",
    "Y_no_promo = model_promotion.predict_proba(df_no_promo)\n",
    "no_promotion = Y_no_promo[: , 1]\n",
    "pe_no_promo = model_promotion.coef_[:, 0] * price_range * (1- no_promotion)"
   ]
  },
  {
   "cell_type": "code",
   "execution_count": null,
   "metadata": {},
   "outputs": [],
   "source": [
    "# Update master data frame to include purchase probability elasticities without promotion\n",
    "df_elasticities[\"PE_No_Promotion\"] = pe_no_promo\n",
    "df_elasticities.head()"
   ]
  },
  {
   "cell_type": "code",
   "execution_count": null,
   "metadata": {},
   "outputs": [],
   "source": [
    "# Plot purchase elasticities with and without promotion side by side for comparison \n",
    "plt.figure(figsize = (9, 6))\n",
    "plt.plot(price_range, pe_no_promo)\n",
    "plt.plot(price_range, pe_promo)\n",
    "plt.xlabel(\"Price\", fontsize = 12)\n",
    "plt.ylabel(\"Elasticity\", fontsize = 12)"
   ]
  },
  {
   "cell_type": "markdown",
   "metadata": {},
   "source": [
    "## **Brand Choice**"
   ]
  },
  {
   "cell_type": "markdown",
   "metadata": {},
   "source": [
    "### **Data**"
   ]
  },
  {
   "cell_type": "code",
   "execution_count": null,
   "metadata": {},
   "outputs": [],
   "source": [
    "# Filter data to include only purchase occasion when a purchase has occured\n",
    "brand_choice = df_pca[df_pca[\"Incidence\"] == 1]\n",
    "pd.options.display.max_rows = 100\n",
    "brand_choice"
   ]
  },
  {
   "cell_type": "code",
   "execution_count": null,
   "metadata": {},
   "outputs": [],
   "source": [
    "# Set the dependent variable to predict the brand choice\n",
    "Y = brand_choice[\"Brand\"]"
   ]
  },
  {
   "cell_type": "code",
   "execution_count": null,
   "metadata": {},
   "outputs": [],
   "source": [
    "# Create the features to predict the dependent variable\n",
    "features = [\"Price_1\", \"Price_2\", \"Price_3\", \"Price_4\", \"Price_5\"]\n",
    "X = brand_choice[features]"
   ]
  },
  {
   "cell_type": "markdown",
   "metadata": {},
   "source": [
    "### **Model**"
   ]
  },
  {
   "cell_type": "code",
   "execution_count": null,
   "metadata": {},
   "outputs": [],
   "source": [
    "# Estimate the relationship between prices and brand choice\n",
    "model_brand = LogisticRegression(solver = \"sag\", multi_class = \"multinomial\")\n",
    "model_brand.fit(X, Y)"
   ]
  },
  {
   "cell_type": "code",
   "execution_count": null,
   "metadata": {},
   "outputs": [],
   "source": [
    "# Create a new data frame that contains the coefficients\n",
    "bc_coefficient = pd.DataFrame(model_brand.coef_)\n",
    "round(bc_coefficient, 3)"
   ]
  },
  {
   "cell_type": "code",
   "execution_count": null,
   "metadata": {},
   "outputs": [],
   "source": [
    "# Transpose the data frame to keep with the conventional representation of results\n",
    "bc_coefficient = pd.DataFrame(np.transpose(model_brand.coef_))"
   ]
  },
  {
   "cell_type": "code",
   "execution_count": null,
   "metadata": {},
   "outputs": [],
   "source": [
    "# Add labels for the columns that represent the coefficients of the brands\n",
    "coefficients = [\"Brand_1\", \"Brand_2\", \"Brand_3\", \"Brand_4\", \"Brand_5\"]\n",
    "bc_coefficient.columns = [coefficients]"
   ]
  },
  {
   "cell_type": "code",
   "execution_count": null,
   "metadata": {},
   "outputs": [],
   "source": [
    "# Add labels for the index that represent the coefficients of the prices\n",
    "prices = [\"Price_1\", \"Price_2\", \"Price_3\", \"Price_4\", \"Price_5\"]\n",
    "bc_coefficient.index = [prices]"
   ]
  },
  {
   "cell_type": "code",
   "execution_count": null,
   "metadata": {},
   "outputs": [],
   "source": [
    "# Round and display the coefficients\n",
    "bc_coefficient = bc_coefficient.round(3)\n",
    "bc_coefficient"
   ]
  },
  {
   "cell_type": "markdown",
   "metadata": {},
   "source": [
    "### **Elasticity**"
   ]
  },
  {
   "cell_type": "code",
   "execution_count": null,
   "metadata": {},
   "outputs": [],
   "source": [
    "# Create a new data frame with price columns used to predict the brand choice probabilities\n",
    "df_brand_5 = pd.DataFrame(index = np.arange(price_range.size))\n",
    "df_brand_5[\"Price_1\"] = brand_choice[\"Price_1\"].mean()\n",
    "df_brand_5[\"Price_2\"] = brand_choice[\"Price_2\"].mean()\n",
    "df_brand_5[\"Price_3\"] = brand_choice[\"Price_3\"].mean()\n",
    "df_brand_5[\"Price_4\"] = brand_choice[\"Price_4\"].mean()\n",
    "df_brand_5[\"Price_5\"] = price_range\n",
    "df_brand_5"
   ]
  },
  {
   "cell_type": "code",
   "execution_count": null,
   "metadata": {},
   "outputs": [],
   "source": [
    "# Predict brand choice probability for the fifth brand\n",
    "brand_5 = model_brand.predict_proba(df_brand_5)\n",
    "pr_brand_5 = brand_5[: ][:, 4]"
   ]
  },
  {
   "cell_type": "code",
   "execution_count": null,
   "metadata": {},
   "outputs": [],
   "source": [
    "# The beta coefficient required is that of the fifth brand at its own price\n",
    "beta5 = bc_coefficient.iloc[4, 4]\n",
    "beta5"
   ]
  },
  {
   "cell_type": "code",
   "execution_count": null,
   "metadata": {},
   "outputs": [],
   "source": [
    "# Calculate price elasticities for brand choice without promotion\n",
    "pe_br_5 = beta5 * price_range * (1 - pr_brand_5)"
   ]
  },
  {
   "cell_type": "code",
   "execution_count": null,
   "metadata": {},
   "outputs": [],
   "source": [
    "# Add the price elasticities to our master data frame\n",
    "df_elasticities[\"Brand_5\"] = pe_br_5\n",
    "df_elasticities.head()"
   ]
  },
  {
   "cell_type": "markdown",
   "metadata": {},
   "source": [
    "### **Cross-Price Elasticity**"
   ]
  },
  {
   "cell_type": "code",
   "execution_count": null,
   "metadata": {},
   "outputs": [],
   "source": [
    "# Examine the effect of the changes in price of a competitor brand\n",
    "df_cross = pd.DataFrame(index = np.arange(price_range.size))\n",
    "df_cross[\"Price_1\"] = brand_choice[\"Price_1\"].mean()\n",
    "df_cross[\"Price_2\"] = brand_choice[\"Price_2\"].mean()\n",
    "df_cross[\"Price_3\"] = brand_choice[\"Price_3\"].mean()\n",
    "df_cross[\"Price_4\"] = price_range\n",
    "df_cross[\"Price_5\"] = brand_choice[\"Price_5\"].mean()\n",
    "\n",
    "df_cross.head()"
   ]
  },
  {
   "cell_type": "code",
   "execution_count": null,
   "metadata": {},
   "outputs": [],
   "source": [
    "# Predict brand choice probability for the competitor brand\n",
    "predict_cross = model_brand.predict_proba(df_cross)\n",
    "predict_cross"
   ]
  },
  {
   "cell_type": "code",
   "execution_count": null,
   "metadata": {},
   "outputs": [],
   "source": [
    "# Select the brand choice probability for the competitor brand\n",
    "pr_brand_4 = predict_cross[:][:, 3]"
   ]
  },
  {
   "cell_type": "code",
   "execution_count": null,
   "metadata": {},
   "outputs": [],
   "source": [
    "# Calculate the cross-price elasticity using the brand choice probability for the competitor brand\n",
    "cross_elasticity = -beta5 * price_range * pr_brand_4"
   ]
  },
  {
   "cell_type": "code",
   "execution_count": null,
   "metadata": {},
   "outputs": [],
   "source": [
    "# Update price elasticities data frame to include the cross-price elasticities\n",
    "df_elasticities[\"Cross-Price_Elasticity\"] = cross_elasticity\n",
    "df_elasticities.head()"
   ]
  },
  {
   "cell_type": "code",
   "execution_count": null,
   "metadata": {},
   "outputs": [],
   "source": [
    "# Examine the cross-price elasticity of brand choice\n",
    "plt.figure(figsize = (9, 6))\n",
    "plt.plot(price_range, cross_elasticity, color = \"grey\")\n",
    "plt.xlabel(\"Price Brand 4\", fontsize = 12)\n",
    "plt.ylabel(\"Elasticity\", fontsize = 12)"
   ]
  },
  {
   "cell_type": "markdown",
   "metadata": {},
   "source": [
    "## **Purchase Quantity**"
   ]
  },
  {
   "cell_type": "markdown",
   "metadata": {},
   "source": [
    "### **Data**"
   ]
  },
  {
   "cell_type": "code",
   "execution_count": null,
   "metadata": {},
   "outputs": [],
   "source": [
    "# Filter the data to contain only visits where the client has purchased at least one product\n",
    "df_quantity = df_pca[df_pca[\"Incidence\"] == 1]\n",
    "df_quantity.head()"
   ]
  },
  {
   "cell_type": "code",
   "execution_count": null,
   "metadata": {},
   "outputs": [],
   "source": [
    "# Create brand dummies for each of the five brands\n",
    "df_quantity = pd.get_dummies(df_quantity, columns = [\"Brand\"], prefix = \"Brand\", prefix_sep = \"_\")\n",
    "df_quantity.describe()"
   ]
  },
  {
   "cell_type": "code",
   "execution_count": null,
   "metadata": {},
   "outputs": [],
   "source": [
    "# Create a variable that indicates the price of the product purchased\n",
    "df_quantity[\"Price_Incidence\"] = (df_quantity[\"Brand_1\"] * df_quantity[\"Price_1\"] +\n",
    "                                  df_quantity[\"Brand_2\"] * df_quantity[\"Price_2\"] +\n",
    "                                  df_quantity[\"Brand_3\"] * df_quantity[\"Price_3\"] +\n",
    "                                  df_quantity[\"Brand_4\"] * df_quantity[\"Price_4\"] +\n",
    "                                  df_quantity[\"Brand_5\"] * df_quantity[\"Price_5\"])"
   ]
  },
  {
   "cell_type": "code",
   "execution_count": null,
   "metadata": {},
   "outputs": [],
   "source": [
    "# Create a variable that indicates whether there was a promotion\n",
    "df_quantity[\"Promotion_Incidence\"] = (df_quantity[\"Brand_1\"] * df_quantity[\"Promotion_1\"] +\n",
    "                                      df_quantity[\"Brand_2\"] * df_quantity[\"Promotion_2\"] +\n",
    "                                      df_quantity[\"Brand_3\"] * df_quantity[\"Promotion_3\"] +\n",
    "                                      df_quantity[\"Brand_4\"] * df_quantity[\"Promotion_4\"] +\n",
    "                                      df_quantity[\"Brand_5\"] * df_quantity[\"Promotion_5\"])"
   ]
  },
  {
   "cell_type": "markdown",
   "metadata": {},
   "source": [
    "### **Model**"
   ]
  },
  {
   "cell_type": "code",
   "execution_count": null,
   "metadata": {},
   "outputs": [],
   "source": [
    "# Adds the variables to the features used to predict the dependent variable\n",
    "X = df_quantity[[\"Price_Incidence\", \"Promotion_Incidence\"]]\n",
    "pd.options.display.max_rows = 100\n",
    "X"
   ]
  },
  {
   "cell_type": "code",
   "execution_count": null,
   "metadata": {},
   "outputs": [],
   "source": [
    "# Set the dependent variable to predict the quantity purchased\n",
    "Y = df_quantity[\"Quantity\"]\n",
    "Y.head()"
   ]
  },
  {
   "cell_type": "code",
   "execution_count": null,
   "metadata": {},
   "outputs": [],
   "source": [
    "# Fit the linear regression model\n",
    "model_quantity = LinearRegression()\n",
    "model_quantity.fit(X, Y)\n",
    "model_quantity.coef_"
   ]
  },
  {
   "cell_type": "markdown",
   "metadata": {},
   "source": [
    "### **Elasticity**"
   ]
  },
  {
   "cell_type": "code",
   "execution_count": null,
   "metadata": {},
   "outputs": [],
   "source": [
    "# Create a new data frame to examine the price elasticity of demand with active promotional activities\n",
    "df_elasticity = pd.DataFrame(index = np.arange(price_range.size))\n",
    "df_elasticity[\"Price_Incidence\"] = price_range\n",
    "df_elasticity[\"Promotion_Incidence\"] = 1"
   ]
  },
  {
   "cell_type": "code",
   "execution_count": null,
   "metadata": {},
   "outputs": [],
   "source": [
    "# Compute the coefficient for the price\n",
    "beta_quantity = model_quantity.coef_[0]\n",
    "round(beta_quantity, 3)"
   ]
  },
  {
   "cell_type": "code",
   "execution_count": null,
   "metadata": {},
   "outputs": [],
   "source": [
    "# Predict the quantity of products purchased with promotion\n",
    "predict_quantity = model_quantity.predict(df_elasticity)"
   ]
  },
  {
   "cell_type": "code",
   "execution_count": null,
   "metadata": {},
   "outputs": [],
   "source": [
    "# Calculate the price elasticity of demand with promotion\n",
    "pe_promo = beta_quantity * price_range / predict_quantity"
   ]
  },
  {
   "cell_type": "code",
   "execution_count": null,
   "metadata": {},
   "outputs": [],
   "source": [
    "# Update master data to include elasticities of demand with promotion feature\n",
    "df_elasticities[\"PE_Quantity_Promotion\"] = pe_promo\n",
    "df_elasticities.head()"
   ]
  },
  {
   "cell_type": "markdown",
   "metadata": {},
   "source": [
    "### **Non-Promoted Price**"
   ]
  },
  {
   "cell_type": "code",
   "execution_count": null,
   "metadata": {},
   "outputs": [],
   "source": [
    "# Overwrite the promotion incidence variable in order to use the same data\n",
    "df_elasticity[\"Promotion_Incidence\"] = 0"
   ]
  },
  {
   "cell_type": "code",
   "execution_count": null,
   "metadata": {},
   "outputs": [],
   "source": [
    "# Predict the quantity of products purchased without promotion\n",
    "predict_quantity = model_quantity.predict(df_elasticity)"
   ]
  },
  {
   "cell_type": "code",
   "execution_count": null,
   "metadata": {},
   "outputs": [],
   "source": [
    "# Calculate the new price elasticities\n",
    "pe_no_promo = beta_quantity * price_range / predict_quantity"
   ]
  },
  {
   "cell_type": "code",
   "execution_count": null,
   "metadata": {},
   "outputs": [],
   "source": [
    "# Update master data to include elasticities of demand without promotion feature\n",
    "df_elasticities[\"PE_Quantity_No_Promotion\"] = pe_no_promo\n",
    "df_elasticities.head()"
   ]
  },
  {
   "cell_type": "code",
   "execution_count": null,
   "metadata": {},
   "outputs": [],
   "source": [
    "# Plot the elasticities with and without promotion side by side\n",
    "plt.figure(figsize = (9, 6))\n",
    "plt.plot(price_range, pe_promo, color = \"orange\")\n",
    "plt.plot(price_range, pe_no_promo)\n",
    "plt.xlabel(\"Price\", fontsize = 12)\n",
    "plt.ylabel(\"Elasticity\", fontsize = 12)"
   ]
  }
 ],
 "metadata": {
  "kernelspec": {
   "display_name": "customer-segmentation",
   "language": "python",
   "name": "python3"
  },
  "language_info": {
   "codemirror_mode": {
    "name": "ipython",
    "version": 3
   },
   "file_extension": ".py",
   "mimetype": "text/x-python",
   "name": "python",
   "nbconvert_exporter": "python",
   "pygments_lexer": "ipython3",
   "version": "3.6.13"
  },
  "orig_nbformat": 4
 },
 "nbformat": 4,
 "nbformat_minor": 2
}
